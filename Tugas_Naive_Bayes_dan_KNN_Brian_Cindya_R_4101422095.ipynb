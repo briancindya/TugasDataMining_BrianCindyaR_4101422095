{
  "nbformat": 4,
  "nbformat_minor": 0,
  "metadata": {
    "colab": {
      "provenance": []
    },
    "kernelspec": {
      "name": "python3",
      "display_name": "Python 3"
    },
    "language_info": {
      "name": "python"
    }
  },
  "cells": [
    {
      "cell_type": "markdown",
      "source": [
        "Nama : Brian Cindya Richmahayu\n",
        "NIM : 4101422095"
      ],
      "metadata": {
        "id": "bJ2rR-6LE17i"
      }
    },
    {
      "cell_type": "markdown",
      "source": [
        "Data : \"Thyroid Cancer Recurrence\""
      ],
      "metadata": {
        "id": "8gtmh2NNGivD"
      }
    },
    {
      "cell_type": "markdown",
      "source": [
        "Preprocessing Data"
      ],
      "metadata": {
        "id": "Gx7oJjoQHKeA"
      }
    },
    {
      "cell_type": "code",
      "source": [
        "# 1. Import library yang diperlukan\n",
        "import pandas as pd\n",
        "import numpy as np\n",
        "from sklearn.preprocessing import LabelEncoder, StandardScaler\n",
        "import matplotlib.pyplot as plt\n",
        "import seaborn as sns\n",
        "\n"
      ],
      "metadata": {
        "id": "SKunvEC1HI3D"
      },
      "execution_count": 90,
      "outputs": []
    },
    {
      "cell_type": "code",
      "execution_count": 91,
      "metadata": {
        "id": "2drf99FG8scc"
      },
      "outputs": [],
      "source": [
        "# 2. Load data\n",
        "df = pd.read_csv('thyroid_data.csv')"
      ]
    },
    {
      "cell_type": "code",
      "source": [
        "# 3. Tampilkan info dasar\n",
        "print(\"Informasi dataset:\")\n",
        "print(df.info())\n",
        "print(\"\\nStatistik deskriptif:\")\n",
        "print(df.describe())\n",
        "print(\"\\nContoh data:\")\n",
        "print(df.head())"
      ],
      "metadata": {
        "colab": {
          "base_uri": "https://localhost:8080/"
        },
        "id": "YQA31BeXHlx5",
        "outputId": "6f2b23f5-4f09-4984-8ffb-20eeb6070e6a"
      },
      "execution_count": 92,
      "outputs": [
        {
          "output_type": "stream",
          "name": "stdout",
          "text": [
            "Informasi dataset:\n",
            "<class 'pandas.core.frame.DataFrame'>\n",
            "RangeIndex: 383 entries, 0 to 382\n",
            "Data columns (total 13 columns):\n",
            " #   Column           Non-Null Count  Dtype \n",
            "---  ------           --------------  ----- \n",
            " 0   Age              383 non-null    int64 \n",
            " 1   Gender           383 non-null    object\n",
            " 2   Hx Radiothreapy  383 non-null    object\n",
            " 3   Adenopathy       383 non-null    object\n",
            " 4   Pathology        383 non-null    object\n",
            " 5   Focality         383 non-null    object\n",
            " 6   Risk             383 non-null    object\n",
            " 7   T                383 non-null    object\n",
            " 8   N                383 non-null    object\n",
            " 9   M                383 non-null    object\n",
            " 10  Stage            383 non-null    object\n",
            " 11  Response         383 non-null    object\n",
            " 12  Recurred         383 non-null    object\n",
            "dtypes: int64(1), object(12)\n",
            "memory usage: 39.0+ KB\n",
            "None\n",
            "\n",
            "Statistik deskriptif:\n",
            "              Age\n",
            "count  383.000000\n",
            "mean    40.866841\n",
            "std     15.134494\n",
            "min     15.000000\n",
            "25%     29.000000\n",
            "50%     37.000000\n",
            "75%     51.000000\n",
            "max     82.000000\n",
            "\n",
            "Contoh data:\n",
            "   Age Gender Hx Radiothreapy Adenopathy       Pathology     Focality Risk  \\\n",
            "0   27      F              No         No  Micropapillary    Uni-Focal  Low   \n",
            "1   34      F              No         No  Micropapillary    Uni-Focal  Low   \n",
            "2   30      F              No         No  Micropapillary    Uni-Focal  Low   \n",
            "3   62      F              No         No  Micropapillary    Uni-Focal  Low   \n",
            "4   62      F              No         No  Micropapillary  Multi-Focal  Low   \n",
            "\n",
            "     T   N   M Stage       Response Recurred  \n",
            "0  T1a  N0  M0     I  Indeterminate       No  \n",
            "1  T1a  N0  M0     I      Excellent       No  \n",
            "2  T1a  N0  M0     I      Excellent       No  \n",
            "3  T1a  N0  M0     I      Excellent       No  \n",
            "4  T1a  N0  M0     I      Excellent       No  \n"
          ]
        }
      ]
    },
    {
      "cell_type": "code",
      "source": [
        "df.tail(15)"
      ],
      "metadata": {
        "colab": {
          "base_uri": "https://localhost:8080/",
          "height": 817
        },
        "id": "gDrw6W3IOphC",
        "outputId": "91ad95d8-885b-4f01-a21f-8f5bbc571182"
      },
      "execution_count": 93,
      "outputs": [
        {
          "output_type": "execute_result",
          "data": {
            "text/plain": [
              "     Age Gender Hx Radiothreapy Adenopathy     Pathology     Focality  Risk  \\\n",
              "368   56      F              No  Posterior     Papillary  Multi-Focal  High   \n",
              "369   71      M              No  Bilateral     Papillary  Multi-Focal  High   \n",
              "370   78      M             Yes         No    Follicular  Multi-Focal  High   \n",
              "371   51      F              No         No     Papillary  Multi-Focal  High   \n",
              "372   67      F              No         No     Papillary  Multi-Focal  High   \n",
              "373   31      M             Yes  Extensive     Papillary  Multi-Focal  High   \n",
              "374   62      M              No       Left     Papillary  Multi-Focal  High   \n",
              "375   59      F              No  Bilateral     Papillary  Multi-Focal  High   \n",
              "376   40      M              No  Bilateral     Papillary  Multi-Focal  High   \n",
              "377   46      M              No  Bilateral    Follicular    Uni-Focal  High   \n",
              "378   72      M             Yes      Right     Papillary    Uni-Focal  High   \n",
              "379   81      M             Yes  Extensive     Papillary  Multi-Focal  High   \n",
              "380   72      M              No  Bilateral     Papillary  Multi-Focal  High   \n",
              "381   61      M             Yes  Extensive  Hurthel cell  Multi-Focal  High   \n",
              "382   67      M              No  Bilateral     Papillary  Multi-Focal  High   \n",
              "\n",
              "       T    N   M Stage                Response Recurred  \n",
              "368  T4a  N1b  M0    II   Structural Incomplete      Yes  \n",
              "369  T4a  N1b  M0   III   Structural Incomplete      Yes  \n",
              "370  T4a   N0  M1   IVB   Structural Incomplete      Yes  \n",
              "371  T4a  N1a  M1    II   Structural Incomplete      Yes  \n",
              "372  T4a   N0  M0   IVA  Biochemical Incomplete      Yes  \n",
              "373  T4a  N1b  M1    II   Structural Incomplete      Yes  \n",
              "374  T4a  N1b  M1   IVB   Structural Incomplete      Yes  \n",
              "375  T4b  N1b  M0   IVB   Structural Incomplete      Yes  \n",
              "376  T4b  N1b  M0     I   Structural Incomplete      Yes  \n",
              "377  T4b  N1b  M1    II   Structural Incomplete      Yes  \n",
              "378  T4b  N1b  M1   IVB  Biochemical Incomplete      Yes  \n",
              "379  T4b  N1b  M1   IVB   Structural Incomplete      Yes  \n",
              "380  T4b  N1b  M1   IVB   Structural Incomplete      Yes  \n",
              "381  T4b  N1b  M0   IVA   Structural Incomplete      Yes  \n",
              "382  T4b  N1b  M0   IVA   Structural Incomplete      Yes  "
            ],
            "text/html": [
              "\n",
              "  <div id=\"df-5420da13-b03c-439e-a8b4-28e5c7355699\" class=\"colab-df-container\">\n",
              "    <div>\n",
              "<style scoped>\n",
              "    .dataframe tbody tr th:only-of-type {\n",
              "        vertical-align: middle;\n",
              "    }\n",
              "\n",
              "    .dataframe tbody tr th {\n",
              "        vertical-align: top;\n",
              "    }\n",
              "\n",
              "    .dataframe thead th {\n",
              "        text-align: right;\n",
              "    }\n",
              "</style>\n",
              "<table border=\"1\" class=\"dataframe\">\n",
              "  <thead>\n",
              "    <tr style=\"text-align: right;\">\n",
              "      <th></th>\n",
              "      <th>Age</th>\n",
              "      <th>Gender</th>\n",
              "      <th>Hx Radiothreapy</th>\n",
              "      <th>Adenopathy</th>\n",
              "      <th>Pathology</th>\n",
              "      <th>Focality</th>\n",
              "      <th>Risk</th>\n",
              "      <th>T</th>\n",
              "      <th>N</th>\n",
              "      <th>M</th>\n",
              "      <th>Stage</th>\n",
              "      <th>Response</th>\n",
              "      <th>Recurred</th>\n",
              "    </tr>\n",
              "  </thead>\n",
              "  <tbody>\n",
              "    <tr>\n",
              "      <th>368</th>\n",
              "      <td>56</td>\n",
              "      <td>F</td>\n",
              "      <td>No</td>\n",
              "      <td>Posterior</td>\n",
              "      <td>Papillary</td>\n",
              "      <td>Multi-Focal</td>\n",
              "      <td>High</td>\n",
              "      <td>T4a</td>\n",
              "      <td>N1b</td>\n",
              "      <td>M0</td>\n",
              "      <td>II</td>\n",
              "      <td>Structural Incomplete</td>\n",
              "      <td>Yes</td>\n",
              "    </tr>\n",
              "    <tr>\n",
              "      <th>369</th>\n",
              "      <td>71</td>\n",
              "      <td>M</td>\n",
              "      <td>No</td>\n",
              "      <td>Bilateral</td>\n",
              "      <td>Papillary</td>\n",
              "      <td>Multi-Focal</td>\n",
              "      <td>High</td>\n",
              "      <td>T4a</td>\n",
              "      <td>N1b</td>\n",
              "      <td>M0</td>\n",
              "      <td>III</td>\n",
              "      <td>Structural Incomplete</td>\n",
              "      <td>Yes</td>\n",
              "    </tr>\n",
              "    <tr>\n",
              "      <th>370</th>\n",
              "      <td>78</td>\n",
              "      <td>M</td>\n",
              "      <td>Yes</td>\n",
              "      <td>No</td>\n",
              "      <td>Follicular</td>\n",
              "      <td>Multi-Focal</td>\n",
              "      <td>High</td>\n",
              "      <td>T4a</td>\n",
              "      <td>N0</td>\n",
              "      <td>M1</td>\n",
              "      <td>IVB</td>\n",
              "      <td>Structural Incomplete</td>\n",
              "      <td>Yes</td>\n",
              "    </tr>\n",
              "    <tr>\n",
              "      <th>371</th>\n",
              "      <td>51</td>\n",
              "      <td>F</td>\n",
              "      <td>No</td>\n",
              "      <td>No</td>\n",
              "      <td>Papillary</td>\n",
              "      <td>Multi-Focal</td>\n",
              "      <td>High</td>\n",
              "      <td>T4a</td>\n",
              "      <td>N1a</td>\n",
              "      <td>M1</td>\n",
              "      <td>II</td>\n",
              "      <td>Structural Incomplete</td>\n",
              "      <td>Yes</td>\n",
              "    </tr>\n",
              "    <tr>\n",
              "      <th>372</th>\n",
              "      <td>67</td>\n",
              "      <td>F</td>\n",
              "      <td>No</td>\n",
              "      <td>No</td>\n",
              "      <td>Papillary</td>\n",
              "      <td>Multi-Focal</td>\n",
              "      <td>High</td>\n",
              "      <td>T4a</td>\n",
              "      <td>N0</td>\n",
              "      <td>M0</td>\n",
              "      <td>IVA</td>\n",
              "      <td>Biochemical Incomplete</td>\n",
              "      <td>Yes</td>\n",
              "    </tr>\n",
              "    <tr>\n",
              "      <th>373</th>\n",
              "      <td>31</td>\n",
              "      <td>M</td>\n",
              "      <td>Yes</td>\n",
              "      <td>Extensive</td>\n",
              "      <td>Papillary</td>\n",
              "      <td>Multi-Focal</td>\n",
              "      <td>High</td>\n",
              "      <td>T4a</td>\n",
              "      <td>N1b</td>\n",
              "      <td>M1</td>\n",
              "      <td>II</td>\n",
              "      <td>Structural Incomplete</td>\n",
              "      <td>Yes</td>\n",
              "    </tr>\n",
              "    <tr>\n",
              "      <th>374</th>\n",
              "      <td>62</td>\n",
              "      <td>M</td>\n",
              "      <td>No</td>\n",
              "      <td>Left</td>\n",
              "      <td>Papillary</td>\n",
              "      <td>Multi-Focal</td>\n",
              "      <td>High</td>\n",
              "      <td>T4a</td>\n",
              "      <td>N1b</td>\n",
              "      <td>M1</td>\n",
              "      <td>IVB</td>\n",
              "      <td>Structural Incomplete</td>\n",
              "      <td>Yes</td>\n",
              "    </tr>\n",
              "    <tr>\n",
              "      <th>375</th>\n",
              "      <td>59</td>\n",
              "      <td>F</td>\n",
              "      <td>No</td>\n",
              "      <td>Bilateral</td>\n",
              "      <td>Papillary</td>\n",
              "      <td>Multi-Focal</td>\n",
              "      <td>High</td>\n",
              "      <td>T4b</td>\n",
              "      <td>N1b</td>\n",
              "      <td>M0</td>\n",
              "      <td>IVB</td>\n",
              "      <td>Structural Incomplete</td>\n",
              "      <td>Yes</td>\n",
              "    </tr>\n",
              "    <tr>\n",
              "      <th>376</th>\n",
              "      <td>40</td>\n",
              "      <td>M</td>\n",
              "      <td>No</td>\n",
              "      <td>Bilateral</td>\n",
              "      <td>Papillary</td>\n",
              "      <td>Multi-Focal</td>\n",
              "      <td>High</td>\n",
              "      <td>T4b</td>\n",
              "      <td>N1b</td>\n",
              "      <td>M0</td>\n",
              "      <td>I</td>\n",
              "      <td>Structural Incomplete</td>\n",
              "      <td>Yes</td>\n",
              "    </tr>\n",
              "    <tr>\n",
              "      <th>377</th>\n",
              "      <td>46</td>\n",
              "      <td>M</td>\n",
              "      <td>No</td>\n",
              "      <td>Bilateral</td>\n",
              "      <td>Follicular</td>\n",
              "      <td>Uni-Focal</td>\n",
              "      <td>High</td>\n",
              "      <td>T4b</td>\n",
              "      <td>N1b</td>\n",
              "      <td>M1</td>\n",
              "      <td>II</td>\n",
              "      <td>Structural Incomplete</td>\n",
              "      <td>Yes</td>\n",
              "    </tr>\n",
              "    <tr>\n",
              "      <th>378</th>\n",
              "      <td>72</td>\n",
              "      <td>M</td>\n",
              "      <td>Yes</td>\n",
              "      <td>Right</td>\n",
              "      <td>Papillary</td>\n",
              "      <td>Uni-Focal</td>\n",
              "      <td>High</td>\n",
              "      <td>T4b</td>\n",
              "      <td>N1b</td>\n",
              "      <td>M1</td>\n",
              "      <td>IVB</td>\n",
              "      <td>Biochemical Incomplete</td>\n",
              "      <td>Yes</td>\n",
              "    </tr>\n",
              "    <tr>\n",
              "      <th>379</th>\n",
              "      <td>81</td>\n",
              "      <td>M</td>\n",
              "      <td>Yes</td>\n",
              "      <td>Extensive</td>\n",
              "      <td>Papillary</td>\n",
              "      <td>Multi-Focal</td>\n",
              "      <td>High</td>\n",
              "      <td>T4b</td>\n",
              "      <td>N1b</td>\n",
              "      <td>M1</td>\n",
              "      <td>IVB</td>\n",
              "      <td>Structural Incomplete</td>\n",
              "      <td>Yes</td>\n",
              "    </tr>\n",
              "    <tr>\n",
              "      <th>380</th>\n",
              "      <td>72</td>\n",
              "      <td>M</td>\n",
              "      <td>No</td>\n",
              "      <td>Bilateral</td>\n",
              "      <td>Papillary</td>\n",
              "      <td>Multi-Focal</td>\n",
              "      <td>High</td>\n",
              "      <td>T4b</td>\n",
              "      <td>N1b</td>\n",
              "      <td>M1</td>\n",
              "      <td>IVB</td>\n",
              "      <td>Structural Incomplete</td>\n",
              "      <td>Yes</td>\n",
              "    </tr>\n",
              "    <tr>\n",
              "      <th>381</th>\n",
              "      <td>61</td>\n",
              "      <td>M</td>\n",
              "      <td>Yes</td>\n",
              "      <td>Extensive</td>\n",
              "      <td>Hurthel cell</td>\n",
              "      <td>Multi-Focal</td>\n",
              "      <td>High</td>\n",
              "      <td>T4b</td>\n",
              "      <td>N1b</td>\n",
              "      <td>M0</td>\n",
              "      <td>IVA</td>\n",
              "      <td>Structural Incomplete</td>\n",
              "      <td>Yes</td>\n",
              "    </tr>\n",
              "    <tr>\n",
              "      <th>382</th>\n",
              "      <td>67</td>\n",
              "      <td>M</td>\n",
              "      <td>No</td>\n",
              "      <td>Bilateral</td>\n",
              "      <td>Papillary</td>\n",
              "      <td>Multi-Focal</td>\n",
              "      <td>High</td>\n",
              "      <td>T4b</td>\n",
              "      <td>N1b</td>\n",
              "      <td>M0</td>\n",
              "      <td>IVA</td>\n",
              "      <td>Structural Incomplete</td>\n",
              "      <td>Yes</td>\n",
              "    </tr>\n",
              "  </tbody>\n",
              "</table>\n",
              "</div>\n",
              "    <div class=\"colab-df-buttons\">\n",
              "\n",
              "  <div class=\"colab-df-container\">\n",
              "    <button class=\"colab-df-convert\" onclick=\"convertToInteractive('df-5420da13-b03c-439e-a8b4-28e5c7355699')\"\n",
              "            title=\"Convert this dataframe to an interactive table.\"\n",
              "            style=\"display:none;\">\n",
              "\n",
              "  <svg xmlns=\"http://www.w3.org/2000/svg\" height=\"24px\" viewBox=\"0 -960 960 960\">\n",
              "    <path d=\"M120-120v-720h720v720H120Zm60-500h600v-160H180v160Zm220 220h160v-160H400v160Zm0 220h160v-160H400v160ZM180-400h160v-160H180v160Zm440 0h160v-160H620v160ZM180-180h160v-160H180v160Zm440 0h160v-160H620v160Z\"/>\n",
              "  </svg>\n",
              "    </button>\n",
              "\n",
              "  <style>\n",
              "    .colab-df-container {\n",
              "      display:flex;\n",
              "      gap: 12px;\n",
              "    }\n",
              "\n",
              "    .colab-df-convert {\n",
              "      background-color: #E8F0FE;\n",
              "      border: none;\n",
              "      border-radius: 50%;\n",
              "      cursor: pointer;\n",
              "      display: none;\n",
              "      fill: #1967D2;\n",
              "      height: 32px;\n",
              "      padding: 0 0 0 0;\n",
              "      width: 32px;\n",
              "    }\n",
              "\n",
              "    .colab-df-convert:hover {\n",
              "      background-color: #E2EBFA;\n",
              "      box-shadow: 0px 1px 2px rgba(60, 64, 67, 0.3), 0px 1px 3px 1px rgba(60, 64, 67, 0.15);\n",
              "      fill: #174EA6;\n",
              "    }\n",
              "\n",
              "    .colab-df-buttons div {\n",
              "      margin-bottom: 4px;\n",
              "    }\n",
              "\n",
              "    [theme=dark] .colab-df-convert {\n",
              "      background-color: #3B4455;\n",
              "      fill: #D2E3FC;\n",
              "    }\n",
              "\n",
              "    [theme=dark] .colab-df-convert:hover {\n",
              "      background-color: #434B5C;\n",
              "      box-shadow: 0px 1px 3px 1px rgba(0, 0, 0, 0.15);\n",
              "      filter: drop-shadow(0px 1px 2px rgba(0, 0, 0, 0.3));\n",
              "      fill: #FFFFFF;\n",
              "    }\n",
              "  </style>\n",
              "\n",
              "    <script>\n",
              "      const buttonEl =\n",
              "        document.querySelector('#df-5420da13-b03c-439e-a8b4-28e5c7355699 button.colab-df-convert');\n",
              "      buttonEl.style.display =\n",
              "        google.colab.kernel.accessAllowed ? 'block' : 'none';\n",
              "\n",
              "      async function convertToInteractive(key) {\n",
              "        const element = document.querySelector('#df-5420da13-b03c-439e-a8b4-28e5c7355699');\n",
              "        const dataTable =\n",
              "          await google.colab.kernel.invokeFunction('convertToInteractive',\n",
              "                                                    [key], {});\n",
              "        if (!dataTable) return;\n",
              "\n",
              "        const docLinkHtml = 'Like what you see? Visit the ' +\n",
              "          '<a target=\"_blank\" href=https://colab.research.google.com/notebooks/data_table.ipynb>data table notebook</a>'\n",
              "          + ' to learn more about interactive tables.';\n",
              "        element.innerHTML = '';\n",
              "        dataTable['output_type'] = 'display_data';\n",
              "        await google.colab.output.renderOutput(dataTable, element);\n",
              "        const docLink = document.createElement('div');\n",
              "        docLink.innerHTML = docLinkHtml;\n",
              "        element.appendChild(docLink);\n",
              "      }\n",
              "    </script>\n",
              "  </div>\n",
              "\n",
              "\n",
              "<div id=\"df-8713a880-73c2-4b6a-b737-0671c95fd25b\">\n",
              "  <button class=\"colab-df-quickchart\" onclick=\"quickchart('df-8713a880-73c2-4b6a-b737-0671c95fd25b')\"\n",
              "            title=\"Suggest charts\"\n",
              "            style=\"display:none;\">\n",
              "\n",
              "<svg xmlns=\"http://www.w3.org/2000/svg\" height=\"24px\"viewBox=\"0 0 24 24\"\n",
              "     width=\"24px\">\n",
              "    <g>\n",
              "        <path d=\"M19 3H5c-1.1 0-2 .9-2 2v14c0 1.1.9 2 2 2h14c1.1 0 2-.9 2-2V5c0-1.1-.9-2-2-2zM9 17H7v-7h2v7zm4 0h-2V7h2v10zm4 0h-2v-4h2v4z\"/>\n",
              "    </g>\n",
              "</svg>\n",
              "  </button>\n",
              "\n",
              "<style>\n",
              "  .colab-df-quickchart {\n",
              "      --bg-color: #E8F0FE;\n",
              "      --fill-color: #1967D2;\n",
              "      --hover-bg-color: #E2EBFA;\n",
              "      --hover-fill-color: #174EA6;\n",
              "      --disabled-fill-color: #AAA;\n",
              "      --disabled-bg-color: #DDD;\n",
              "  }\n",
              "\n",
              "  [theme=dark] .colab-df-quickchart {\n",
              "      --bg-color: #3B4455;\n",
              "      --fill-color: #D2E3FC;\n",
              "      --hover-bg-color: #434B5C;\n",
              "      --hover-fill-color: #FFFFFF;\n",
              "      --disabled-bg-color: #3B4455;\n",
              "      --disabled-fill-color: #666;\n",
              "  }\n",
              "\n",
              "  .colab-df-quickchart {\n",
              "    background-color: var(--bg-color);\n",
              "    border: none;\n",
              "    border-radius: 50%;\n",
              "    cursor: pointer;\n",
              "    display: none;\n",
              "    fill: var(--fill-color);\n",
              "    height: 32px;\n",
              "    padding: 0;\n",
              "    width: 32px;\n",
              "  }\n",
              "\n",
              "  .colab-df-quickchart:hover {\n",
              "    background-color: var(--hover-bg-color);\n",
              "    box-shadow: 0 1px 2px rgba(60, 64, 67, 0.3), 0 1px 3px 1px rgba(60, 64, 67, 0.15);\n",
              "    fill: var(--button-hover-fill-color);\n",
              "  }\n",
              "\n",
              "  .colab-df-quickchart-complete:disabled,\n",
              "  .colab-df-quickchart-complete:disabled:hover {\n",
              "    background-color: var(--disabled-bg-color);\n",
              "    fill: var(--disabled-fill-color);\n",
              "    box-shadow: none;\n",
              "  }\n",
              "\n",
              "  .colab-df-spinner {\n",
              "    border: 2px solid var(--fill-color);\n",
              "    border-color: transparent;\n",
              "    border-bottom-color: var(--fill-color);\n",
              "    animation:\n",
              "      spin 1s steps(1) infinite;\n",
              "  }\n",
              "\n",
              "  @keyframes spin {\n",
              "    0% {\n",
              "      border-color: transparent;\n",
              "      border-bottom-color: var(--fill-color);\n",
              "      border-left-color: var(--fill-color);\n",
              "    }\n",
              "    20% {\n",
              "      border-color: transparent;\n",
              "      border-left-color: var(--fill-color);\n",
              "      border-top-color: var(--fill-color);\n",
              "    }\n",
              "    30% {\n",
              "      border-color: transparent;\n",
              "      border-left-color: var(--fill-color);\n",
              "      border-top-color: var(--fill-color);\n",
              "      border-right-color: var(--fill-color);\n",
              "    }\n",
              "    40% {\n",
              "      border-color: transparent;\n",
              "      border-right-color: var(--fill-color);\n",
              "      border-top-color: var(--fill-color);\n",
              "    }\n",
              "    60% {\n",
              "      border-color: transparent;\n",
              "      border-right-color: var(--fill-color);\n",
              "    }\n",
              "    80% {\n",
              "      border-color: transparent;\n",
              "      border-right-color: var(--fill-color);\n",
              "      border-bottom-color: var(--fill-color);\n",
              "    }\n",
              "    90% {\n",
              "      border-color: transparent;\n",
              "      border-bottom-color: var(--fill-color);\n",
              "    }\n",
              "  }\n",
              "</style>\n",
              "\n",
              "  <script>\n",
              "    async function quickchart(key) {\n",
              "      const quickchartButtonEl =\n",
              "        document.querySelector('#' + key + ' button');\n",
              "      quickchartButtonEl.disabled = true;  // To prevent multiple clicks.\n",
              "      quickchartButtonEl.classList.add('colab-df-spinner');\n",
              "      try {\n",
              "        const charts = await google.colab.kernel.invokeFunction(\n",
              "            'suggestCharts', [key], {});\n",
              "      } catch (error) {\n",
              "        console.error('Error during call to suggestCharts:', error);\n",
              "      }\n",
              "      quickchartButtonEl.classList.remove('colab-df-spinner');\n",
              "      quickchartButtonEl.classList.add('colab-df-quickchart-complete');\n",
              "    }\n",
              "    (() => {\n",
              "      let quickchartButtonEl =\n",
              "        document.querySelector('#df-8713a880-73c2-4b6a-b737-0671c95fd25b button');\n",
              "      quickchartButtonEl.style.display =\n",
              "        google.colab.kernel.accessAllowed ? 'block' : 'none';\n",
              "    })();\n",
              "  </script>\n",
              "</div>\n",
              "\n",
              "    </div>\n",
              "  </div>\n"
            ],
            "application/vnd.google.colaboratory.intrinsic+json": {
              "type": "dataframe",
              "summary": "{\n  \"name\": \"df\",\n  \"rows\": 15,\n  \"fields\": [\n    {\n      \"column\": \"Age\",\n      \"properties\": {\n        \"dtype\": \"number\",\n        \"std\": 14,\n        \"min\": 31,\n        \"max\": 81,\n        \"num_unique_values\": 13,\n        \"samples\": [\n          81,\n          46,\n          56\n        ],\n        \"semantic_type\": \"\",\n        \"description\": \"\"\n      }\n    },\n    {\n      \"column\": \"Gender\",\n      \"properties\": {\n        \"dtype\": \"category\",\n        \"num_unique_values\": 2,\n        \"samples\": [\n          \"M\",\n          \"F\"\n        ],\n        \"semantic_type\": \"\",\n        \"description\": \"\"\n      }\n    },\n    {\n      \"column\": \"Hx Radiothreapy\",\n      \"properties\": {\n        \"dtype\": \"category\",\n        \"num_unique_values\": 2,\n        \"samples\": [\n          \"Yes\",\n          \"No\"\n        ],\n        \"semantic_type\": \"\",\n        \"description\": \"\"\n      }\n    },\n    {\n      \"column\": \"Adenopathy\",\n      \"properties\": {\n        \"dtype\": \"category\",\n        \"num_unique_values\": 6,\n        \"samples\": [\n          \"Posterior\",\n          \"Bilateral\"\n        ],\n        \"semantic_type\": \"\",\n        \"description\": \"\"\n      }\n    },\n    {\n      \"column\": \"Pathology\",\n      \"properties\": {\n        \"dtype\": \"category\",\n        \"num_unique_values\": 3,\n        \"samples\": [\n          \"Papillary\",\n          \"Follicular\"\n        ],\n        \"semantic_type\": \"\",\n        \"description\": \"\"\n      }\n    },\n    {\n      \"column\": \"Focality\",\n      \"properties\": {\n        \"dtype\": \"category\",\n        \"num_unique_values\": 2,\n        \"samples\": [\n          \"Uni-Focal\",\n          \"Multi-Focal\"\n        ],\n        \"semantic_type\": \"\",\n        \"description\": \"\"\n      }\n    },\n    {\n      \"column\": \"Risk\",\n      \"properties\": {\n        \"dtype\": \"category\",\n        \"num_unique_values\": 1,\n        \"samples\": [\n          \"High\"\n        ],\n        \"semantic_type\": \"\",\n        \"description\": \"\"\n      }\n    },\n    {\n      \"column\": \"T\",\n      \"properties\": {\n        \"dtype\": \"category\",\n        \"num_unique_values\": 2,\n        \"samples\": [\n          \"T4b\"\n        ],\n        \"semantic_type\": \"\",\n        \"description\": \"\"\n      }\n    },\n    {\n      \"column\": \"N\",\n      \"properties\": {\n        \"dtype\": \"category\",\n        \"num_unique_values\": 3,\n        \"samples\": [\n          \"N1b\"\n        ],\n        \"semantic_type\": \"\",\n        \"description\": \"\"\n      }\n    },\n    {\n      \"column\": \"M\",\n      \"properties\": {\n        \"dtype\": \"category\",\n        \"num_unique_values\": 2,\n        \"samples\": [\n          \"M1\"\n        ],\n        \"semantic_type\": \"\",\n        \"description\": \"\"\n      }\n    },\n    {\n      \"column\": \"Stage\",\n      \"properties\": {\n        \"dtype\": \"category\",\n        \"num_unique_values\": 5,\n        \"samples\": [\n          \"III\"\n        ],\n        \"semantic_type\": \"\",\n        \"description\": \"\"\n      }\n    },\n    {\n      \"column\": \"Response\",\n      \"properties\": {\n        \"dtype\": \"category\",\n        \"num_unique_values\": 2,\n        \"samples\": [\n          \"Biochemical Incomplete\"\n        ],\n        \"semantic_type\": \"\",\n        \"description\": \"\"\n      }\n    },\n    {\n      \"column\": \"Recurred\",\n      \"properties\": {\n        \"dtype\": \"category\",\n        \"num_unique_values\": 1,\n        \"samples\": [\n          \"Yes\"\n        ],\n        \"semantic_type\": \"\",\n        \"description\": \"\"\n      }\n    }\n  ]\n}"
            }
          },
          "metadata": {},
          "execution_count": 93
        }
      ]
    },
    {
      "cell_type": "code",
      "source": [
        "# 4. Cek missing values\n",
        "print(\"\\nJumlah missing values per kolom:\")\n",
        "print(df.isnull().sum())"
      ],
      "metadata": {
        "colab": {
          "base_uri": "https://localhost:8080/"
        },
        "id": "c1MXJSwkH10_",
        "outputId": "67b94c95-eefc-4cbc-96ab-60854d422c60"
      },
      "execution_count": 94,
      "outputs": [
        {
          "output_type": "stream",
          "name": "stdout",
          "text": [
            "\n",
            "Jumlah missing values per kolom:\n",
            "Age                0\n",
            "Gender             0\n",
            "Hx Radiothreapy    0\n",
            "Adenopathy         0\n",
            "Pathology          0\n",
            "Focality           0\n",
            "Risk               0\n",
            "T                  0\n",
            "N                  0\n",
            "M                  0\n",
            "Stage              0\n",
            "Response           0\n",
            "Recurred           0\n",
            "dtype: int64\n"
          ]
        }
      ]
    },
    {
      "cell_type": "code",
      "source": [
        "df.duplicated().sum()"
      ],
      "metadata": {
        "colab": {
          "base_uri": "https://localhost:8080/"
        },
        "id": "bJZXlRyge4Xs",
        "outputId": "41da7d7a-6f0e-4f42-a4ef-a31326c1dd43"
      },
      "execution_count": 95,
      "outputs": [
        {
          "output_type": "execute_result",
          "data": {
            "text/plain": [
              "np.int64(53)"
            ]
          },
          "metadata": {},
          "execution_count": 95
        }
      ]
    },
    {
      "cell_type": "code",
      "source": [
        "df.drop_duplicates(inplace = True)"
      ],
      "metadata": {
        "id": "BuibUeSUmW4r"
      },
      "execution_count": 96,
      "outputs": []
    },
    {
      "cell_type": "code",
      "source": [
        "df.duplicated().sum()"
      ],
      "metadata": {
        "colab": {
          "base_uri": "https://localhost:8080/"
        },
        "id": "4OCjn_cjmjfs",
        "outputId": "b98777ca-3f56-4d44-90af-fd291f930be7"
      },
      "execution_count": 97,
      "outputs": [
        {
          "output_type": "execute_result",
          "data": {
            "text/plain": [
              "np.int64(0)"
            ]
          },
          "metadata": {},
          "execution_count": 97
        }
      ]
    },
    {
      "cell_type": "code",
      "source": [
        "# 5. Tampilkan hasil akhir\n",
        "print(\"\\nData setelah preprocessing:\")\n",
        "print(df.head())"
      ],
      "metadata": {
        "colab": {
          "base_uri": "https://localhost:8080/"
        },
        "id": "oDN20SN1Ime9",
        "outputId": "ee63f10b-546f-42dc-a96e-137c5687e7b9"
      },
      "execution_count": 98,
      "outputs": [
        {
          "output_type": "stream",
          "name": "stdout",
          "text": [
            "\n",
            "Data setelah preprocessing:\n",
            "   Age Gender Hx Radiothreapy Adenopathy       Pathology     Focality Risk  \\\n",
            "0   27      F              No         No  Micropapillary    Uni-Focal  Low   \n",
            "1   34      F              No         No  Micropapillary    Uni-Focal  Low   \n",
            "2   30      F              No         No  Micropapillary    Uni-Focal  Low   \n",
            "3   62      F              No         No  Micropapillary    Uni-Focal  Low   \n",
            "4   62      F              No         No  Micropapillary  Multi-Focal  Low   \n",
            "\n",
            "     T   N   M Stage       Response Recurred  \n",
            "0  T1a  N0  M0     I  Indeterminate       No  \n",
            "1  T1a  N0  M0     I      Excellent       No  \n",
            "2  T1a  N0  M0     I      Excellent       No  \n",
            "3  T1a  N0  M0     I      Excellent       No  \n",
            "4  T1a  N0  M0     I      Excellent       No  \n"
          ]
        }
      ]
    },
    {
      "cell_type": "markdown",
      "source": [
        " **Langkah-langkah pemodelan Klasifikasi **\n",
        " 1. Import Library: Pertama, kita import semua library Python yang dibutuhkan, seperti:pandas, numpy untuk manipulasi data,\n",
        " sklearn untuk preprocessing, pembagian data, model machine learning, dan evaluasi,\n",
        " seaborn, matplotlib untuk visualisasi.\n",
        " 2. Load dan Persiapkan Dataset: Dataset yang digunakan adalah thyroid_data.csv. Kita muat dataset tersebut menggunakan pandas.read_csv(). Lalu kita lihat struktur data, tipe data, dan jumlah nilai null jika ada.\n",
        " 3. Preprocessing Data\n",
        "(a) Encoding: Kolom kategorikal diubah menjadi numerik menggunakan LabelEncoder.\n",
        "(b)Normalisasi: Kolom numerik seperti Age dinormalisasi dengan StandardScaler agar memiliki skala yang seragam.\n",
        "(c)Split Data: Dataset dibagi menjadi data latih (training) dan data uji (testing) dengan proporsi 80%:20% menggunakan train_test_split."
      ],
      "metadata": {
        "id": "BouDR7fnffex"
      }
    },
    {
      "cell_type": "markdown",
      "source": [
        "**Model Naive Bayes**"
      ],
      "metadata": {
        "id": "H6YQrUyldl2E"
      }
    },
    {
      "cell_type": "markdown",
      "source": [
        "Langkah-langkah:\n",
        "\n",
        "1. Gunakan GaussianNB dari sklearn.naive_bayes.\n",
        "\n",
        "2. Latih model dengan fit(X_train, y_train).\n",
        "\n",
        "3. Lakukan prediksi terhadap data uji menggunakan predict(X_test).\n",
        "\n",
        "4. Evaluasi model : Langkah ini digunakan untuk mengevaluasi seberapa baik model dalam mengklasifikasi data. Kita melihat akurasi keseluruhan, serta precision, recall, F1-score, dan visualisasi confusion matrix."
      ],
      "metadata": {
        "id": "64rx3AgHikMV"
      }
    },
    {
      "cell_type": "code",
      "source": [
        "from sklearn.naive_bayes import GaussianNB\n",
        "from sklearn.metrics import accuracy_score, confusion_matrix, classification_report"
      ],
      "metadata": {
        "id": "KbtCuNnmpxpu"
      },
      "execution_count": 99,
      "outputs": []
    },
    {
      "cell_type": "code",
      "source": [
        "# Latih model\n",
        "nb_model = GaussianNB()\n",
        "nb_model.fit(X_train, y_train)\n",
        "y_pred_nb = nb_model.predict(X_test)\n",
        "\n",
        "# Evaluasi\n",
        "acc_nb = accuracy_score(y_test, y_pred_nb)\n",
        "cm_nb = confusion_matrix(y_test, y_pred_nb)\n",
        "print(\"Akurasi Naive Bayes:\", acc_nb)\n",
        "print(classification_report(y_test, y_pred_nb))\n",
        "\n",
        "# Visualisasi\n",
        "sns.heatmap(cm_nb, annot=True, fmt='d', cmap='Blues')\n",
        "plt.title(\"Confusion Matrix - Naive Bayes\")\n",
        "plt.xlabel(\"Predicted\")\n",
        "plt.ylabel(\"Actual\")\n",
        "plt.show()\n"
      ],
      "metadata": {
        "colab": {
          "base_uri": "https://localhost:8080/",
          "height": 646
        },
        "id": "ZUltRm69bnqE",
        "outputId": "748ede3d-7778-40b8-b71b-f806c6585732"
      },
      "execution_count": 100,
      "outputs": [
        {
          "output_type": "stream",
          "name": "stdout",
          "text": [
            "Akurasi Naive Bayes: 0.9090909090909091\n",
            "              precision    recall  f1-score   support\n",
            "\n",
            "           0       0.88      1.00      0.94        51\n",
            "           1       1.00      0.73      0.84        26\n",
            "\n",
            "    accuracy                           0.91        77\n",
            "   macro avg       0.94      0.87      0.89        77\n",
            "weighted avg       0.92      0.91      0.90        77\n",
            "\n"
          ]
        },
        {
          "output_type": "display_data",
          "data": {
            "text/plain": [
              "<Figure size 640x480 with 2 Axes>"
            ],
            "image/png": "[encoded data removed]"
          },
          "metadata": {}
        }
      ]
    },
    {
      "cell_type": "markdown",
      "source": [
        "**Model KNN**"
      ],
      "metadata": {
        "id": "qQiilyrrZMdZ"
      }
    },
    {
      "cell_type": "markdown",
      "source": [
        "Langkah-langkah:\n",
        "\n",
        "1. Gunakan KNeighborsClassifier dari sklearn.neighbors, misalnya dengan k=5 yang artinya model akan melihat 5 tetangga terdekat untuk menentukan kelas dari data uji.\n",
        "\n",
        "2. Latih model dan prediksi seperti pada Naive Bayes.\n",
        "\n",
        "3. Evaluasi model : langkah ini mengevaluasi performa model menggunakan akurasi, precision, recall, dan F1-score. Confusion matrix divisualisasikan agar mudah dilihat."
      ],
      "metadata": {
        "id": "uew7q_5LjW5W"
      }
    },
    {
      "cell_type": "code",
      "source": [
        "from sklearn.neighbors import KNeighborsClassifier\n",
        "from sklearn.metrics import classification_report"
      ],
      "metadata": {
        "id": "_D7R-EgIp72y"
      },
      "execution_count": 101,
      "outputs": []
    },
    {
      "cell_type": "code",
      "source": [
        "# Latih model\n",
        "knn_model = KNeighborsClassifier(n_neighbors=5)\n",
        "knn_model.fit(X_train, y_train)\n",
        "y_pred_knn = knn_model.predict(X_test)\n",
        "\n",
        "# Evaluasi\n",
        "acc_knn = accuracy_score(y_test, y_pred_knn)\n",
        "cm_knn = confusion_matrix(y_test, y_pred_knn)\n",
        "print(\"Akurasi KNN:\", acc_knn)\n",
        "print(classification_report(y_test, y_pred_knn))\n",
        "\n",
        "# Visualisasi\n",
        "sns.heatmap(cm_knn, annot=True, fmt='d', cmap='Greens')\n",
        "plt.title(\"Confusion Matrix - KNN\")\n",
        "plt.xlabel(\"Predicted\")\n",
        "plt.ylabel(\"Actual\")\n",
        "plt.show()\n"
      ],
      "metadata": {
        "colab": {
          "base_uri": "https://localhost:8080/",
          "height": 646
        },
        "id": "yZU4dHa3ak3H",
        "outputId": "d137da9f-bbbb-4de9-e08b-9f7b2818e124"
      },
      "execution_count": 102,
      "outputs": [
        {
          "output_type": "stream",
          "name": "stdout",
          "text": [
            "Akurasi KNN: 0.922077922077922\n",
            "              precision    recall  f1-score   support\n",
            "\n",
            "           0       0.91      0.98      0.94        51\n",
            "           1       0.95      0.81      0.88        26\n",
            "\n",
            "    accuracy                           0.92        77\n",
            "   macro avg       0.93      0.89      0.91        77\n",
            "weighted avg       0.92      0.92      0.92        77\n",
            "\n"
          ]
        },
        {
          "output_type": "display_data",
          "data": {
            "text/plain": [
              "<Figure size 640x480 with 2 Axes>"
            ],
            "image/png": "[encoded data removed]"
          },
          "metadata": {}
        }
      ]
    },
    {
      "cell_type": "markdown",
      "source": [
        "**Perbandingan Hasil**"
      ],
      "metadata": {
        "id": "hV9VYmMscBee"
      }
    },
    {
      "cell_type": "code",
      "source": [
        "print(f\"Akurasi Naive Bayes: {acc_nb:.4f}\")\n",
        "print(f\"Akurasi KNN        : {acc_knn:.4f}\")"
      ],
      "metadata": {
        "colab": {
          "base_uri": "https://localhost:8080/"
        },
        "id": "-GHHxJKZcF3q",
        "outputId": "9b90289c-1a57-4e88-dc2c-89971ed5fbe4"
      },
      "execution_count": 103,
      "outputs": [
        {
          "output_type": "stream",
          "name": "stdout",
          "text": [
            "Akurasi Naive Bayes: 0.9091\n",
            "Akurasi KNN        : 0.9221\n"
          ]
        }
      ]
    },
    {
      "cell_type": "markdown",
      "source": [
        "Output dari Akurasi Naive Bayes 0.9091  yang dihasilkan dari accuracy_score menunjukkan tingkat akurasi dari model klasifikasi yang dilatih. Dalam konteks ini, angka 0.9091 berarti bahwa model berhasil memprediksi dengan benar sekitar 90,91% dari semua sampel pada data uji (y_test) yang telah digunakan."
      ],
      "metadata": {
        "id": "b8O4LKqMlfNT"
      }
    },
    {
      "cell_type": "markdown",
      "source": [
        "Output dari Akurasi KNN 0.9221 yang dihasilkan dari accuracy_score menunjukkan tingkat akurasi dari model klasifikasi yang dilatih. Dalam konteks ini, angka 0.9221 berarti bahwa model berhasil memprediksi dengan benar sekitar 92,21% dari semua sampel pada data uji (y_test) yang telah digunakan."
      ],
      "metadata": {
        "id": "GYs8ADrLl1zW"
      }
    }
  ]
}